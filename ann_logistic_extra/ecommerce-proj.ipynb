{
 "cells": [
  {
   "cell_type": "code",
   "execution_count": 35,
   "metadata": {},
   "outputs": [
    {
     "name": "stdout",
     "output_type": "stream",
     "text": [
      "Scores:  0.3442211055276382\n"
     ]
    },
    {
     "name": "stderr",
     "output_type": "stream",
     "text": [
      "/home/loganathan001/tf_jupyter_gym/tf_jupyter_gym/lib/python3.6/site-packages/ipykernel_launcher.py:6: FutureWarning: Method .as_matrix will be removed in a future version. Use .values instead.\n",
      "  \n"
     ]
    }
   ],
   "source": [
    "import numpy as np\n",
    "import pandas as pd\n",
    "\n",
    "def get_data():\n",
    "    df = pd.read_csv('ecommerce_data.csv')\n",
    "    data = df.as_matrix()\n",
    "    \n",
    "    X = data[:, :-1]\n",
    "    Y = data[:, -1]\n",
    "    \n",
    "    X[:,1] = (X[:, 1] - X[:, 1].mean()) / X[:, 1].std()\n",
    "    X[:,2] = (X[:, 2] - X[:, 2].mean()) / X[:, 2].std()\n",
    "    \n",
    "    N, D = X.shape\n",
    "    X2 = np.zeros((N, D+3))\n",
    "    X2[:, 0:(D-1)] = X[:, 0:(D-1)]\n",
    "    \n",
    "    for n in range(N):\n",
    "        t = int(X[n,D-1])\n",
    "        X2[n, t+D-1] = 1\n",
    "        \n",
    "    Z = np.zeros((N, 4))\n",
    "    Z[np.arange(N), X[:, D-1].astype(np.int32)] = 1\n",
    "    \n",
    "    # X2[:, -4:] = Z\n",
    "    assert(np.abs(X2[:, -4:] - Z).sum() < 10e-10)\n",
    "\n",
    "    return X2,Y\n",
    "\n",
    "\n",
    "def get_binary_data():\n",
    "    X, Y = get_data()\n",
    "    X2 = X[Y <= 1]\n",
    "    Y2 = Y[Y <= 1]\n",
    "    \n",
    "    return X2, Y2\n",
    "\n",
    "X, Y = get_binary_data()\n",
    "D = X.shape[1]\n",
    "w = np.random.randn(D)\n",
    "b=0\n",
    "\n",
    "def sigmoid(a):\n",
    "    return 1 /(1 + np.exp(-a))\n",
    "\n",
    "def forward(X, W, b):\n",
    "    return sigmoid(X.dot(W) + b)\n",
    "\n",
    "P_Y_given_X = forward(X, w, b)\n",
    "predictions = np.round(P_Y_given_X)\n",
    "\n",
    "def classification_rate(Y, P):\n",
    "    return np.mean(Y == P)\n",
    "\n",
    "print(\"Scores: \", classification_rate(Y, predictions))\n",
    "\n"
   ]
  }
 ],
 "metadata": {
  "kernelspec": {
   "display_name": "Python 3",
   "language": "python",
   "name": "python3"
  },
  "language_info": {
   "codemirror_mode": {
    "name": "ipython",
    "version": 3
   },
   "file_extension": ".py",
   "mimetype": "text/x-python",
   "name": "python",
   "nbconvert_exporter": "python",
   "pygments_lexer": "ipython3",
   "version": "3.6.8"
  }
 },
 "nbformat": 4,
 "nbformat_minor": 2
}
